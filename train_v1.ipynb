{
 "cells": [
  {
   "cell_type": "markdown",
   "metadata": {},
   "source": [
    "## 2. Train Data with tensorflow"
   ]
  },
  {
   "cell_type": "markdown",
   "metadata": {},
   "source": [
    "### Setting\n"
   ]
  },
  {
   "cell_type": "code",
   "execution_count": 64,
   "metadata": {},
   "outputs": [
    {
     "data": {
      "text/plain": [
       "'/Users/woongjae/Desktop/gradu/project'"
      ]
     },
     "execution_count": 64,
     "metadata": {},
     "output_type": "execute_result"
    }
   ],
   "source": [
    "pwd"
   ]
  },
  {
   "cell_type": "markdown",
   "metadata": {},
   "source": [
    "### Library call"
   ]
  },
  {
   "cell_type": "code",
   "execution_count": 10,
   "metadata": {},
   "outputs": [],
   "source": [
    "import glob\n",
    "import yaml\n",
    "from IPython.display import Image\n",
    "import os\n",
    "import numpy as np\n",
    "import tensorflow as tf\n",
    "from tensorflow import keras\n",
    "import numpy as np\n",
    "import cv2\n",
    "import pandas as pd\n",
    "from tensorflow.keras import layers\n",
    "import matplotlib.pyplot as plt\n",
    "import random"
   ]
  },
  {
   "cell_type": "code",
   "execution_count": 2,
   "metadata": {},
   "outputs": [
    {
     "name": "stdout",
     "output_type": "stream",
     "text": [
      "    5540\n",
      "     717\n"
     ]
    }
   ],
   "source": [
    "#number of training and validation images.\n",
    "!ls -1 /Users/woongjae/Desktop/gradu/project/dataset_v2/train/images | wc -l\n",
    "!ls -1 /Users/woongjae/Desktop/gradu/project/dataset_v2/valid/images | wc -l"
   ]
  },
  {
   "cell_type": "code",
   "execution_count": 3,
   "metadata": {},
   "outputs": [
    {
     "data": {
      "text/plain": [
       "'/Users/woongjae/Desktop/gradu/project'"
      ]
     },
     "execution_count": 3,
     "metadata": {},
     "output_type": "execute_result"
    }
   ],
   "source": [
    "pwd"
   ]
  },
  {
   "cell_type": "code",
   "execution_count": 4,
   "metadata": {},
   "outputs": [],
   "source": [
    "#Function to convert bounding boxes in YOLO\n",
    "def yolo2box(boxes):\n",
    "    xmin, ymin = boxes[0] - boxes[2]/2 , boxes[1] - boxes[3]/2\n",
    "    xmax, ymax = boxes[0] + boxes[2]/2 , boxes[1] + boxes[3]/2\n",
    "    return xmin, ymin, xmax, ymax"
   ]
  },
  {
   "cell_type": "code",
   "execution_count": 5,
   "metadata": {},
   "outputs": [],
   "source": [
    "# Function to plot the bounding boxes to their respective images\n",
    "def plot_box(image, boxes, labels):\n",
    "    # Need the image height and width to denormalize the bounding box coordinates\n",
    "    h, w, _ = image.shape\n",
    "    for box_num, box in enumerate(boxes):\n",
    "        x1, y1, x2, y2 = yolo2box(box)\n",
    "        # Denormalizing the coordinates\n",
    "        xmin = int(x1,w)\n",
    "        ymin = int(y1,h)\n",
    "        xmax = int(x2,w)\n",
    "        ymax = int(y2,h)\n",
    "        \n",
    "        thickness = max(2, int(w/275))\n",
    "        \n",
    "        cv2.rectangle(\n",
    "            image,\n",
    "            (xmin,ymin), (xmax,ymax),\n",
    "            color = (0,0,255),\n",
    "            thickness= thickness\n",
    "        )\n",
    "    return image"
   ]
  },
  {
   "cell_type": "code",
   "execution_count": 92,
   "metadata": {},
   "outputs": [],
   "source": [
    "# Function to plot images with the bounding boxes.\n",
    "\n",
    "def plot(image_path, label_path, num_samples):\n",
    "    all_images = []\n",
    "    all_images.extend(glob.glob(image_path+'/*.jpg'))\n",
    "    all_images.extend(glob.glob(image_path+'/*.JPG'))\n",
    "    \n",
    "    all_images.sort()\n",
    "    \n",
    "    num_images = len(all_images)\n",
    "    \n",
    "    plt.figure(figsize=(15,12))\n",
    "    \n",
    "    for i in range(num_samples):\n",
    "        j = random.randint(0,num_images-1)\n",
    "        image_name = all_images[j]\n",
    "        image_name = '.'.join(image_name.split(os.path.sep)[-1].split('.')[:-1])\n",
    "        image = cv2.imread(all_images[j])\n",
    "        with open(os.path.join(label_path, image_name + '.txt'),'r') as f:\n",
    "            boxes = []\n",
    "            labels = []\n",
    "            label_lines = f.readlines()\n",
    "            for label_line in label_lines:\n",
    "                label = label_line[0]\n",
    "                box_string = label_line[2:]\n",
    "                x_c, y_c, w, h = box_string.split('_')\n",
    "                x_c = float(x_c)\n",
    "                y_c = float(y_c)\n",
    "                w = float(w)\n",
    "                h = float(h)\n",
    "                boxes.append([x_c,y_c,w,h])\n",
    "                labels.append(label)\n",
    "                \n",
    "        result_image = plot_box(image,boxes,labels)\n",
    "        plt.subplot(2,2,i+1)\n",
    "        plt.imshow(result_image[:,:, ::-1])\n",
    "        plt.axis('off')\n",
    "    plt.subplots_adjust(wspace=1)\n",
    "    plt.tight_layout()\n",
    "    plt.show()\n",
    "    "
   ]
  },
  {
   "cell_type": "code",
   "execution_count": 24,
   "metadata": {},
   "outputs": [
    {
     "data": {
      "text/plain": [
       "'/Users/woongjae/Desktop/gradu/project'"
      ]
     },
     "execution_count": 24,
     "metadata": {},
     "output_type": "execute_result"
    }
   ],
   "source": [
    "pwd"
   ]
  },
  {
   "cell_type": "code",
   "execution_count": 20,
   "metadata": {},
   "outputs": [],
   "source": [
    "\n",
    "image_path = 'dataset_v2/train/images/'\n",
    "label_path = 'dataset_v2/train/labels/'\n"
   ]
  },
  {
   "cell_type": "code",
   "execution_count": 93,
   "metadata": {},
   "outputs": [
    {
     "ename": "ValueError",
     "evalue": "not enough values to unpack (expected 4, got 1)",
     "output_type": "error",
     "traceback": [
      "\u001b[0;31m---------------------------------------------------------------------------\u001b[0m",
      "\u001b[0;31mValueError\u001b[0m                                Traceback (most recent call last)",
      "Cell \u001b[0;32mIn[93], line 1\u001b[0m\n\u001b[0;32m----> 1\u001b[0m plot(image_path, label_path, \u001b[39m2\u001b[39;49m)\n",
      "Cell \u001b[0;32mIn[92], line 26\u001b[0m, in \u001b[0;36mplot\u001b[0;34m(image_path, label_path, num_samples)\u001b[0m\n\u001b[1;32m     24\u001b[0m label \u001b[39m=\u001b[39m label_line[\u001b[39m0\u001b[39m]\n\u001b[1;32m     25\u001b[0m box_string \u001b[39m=\u001b[39m label_line[\u001b[39m2\u001b[39m:]\n\u001b[0;32m---> 26\u001b[0m x_c, y_c, w, h \u001b[39m=\u001b[39m box_string\u001b[39m.\u001b[39msplit(\u001b[39m'\u001b[39m\u001b[39m_\u001b[39m\u001b[39m'\u001b[39m)\n\u001b[1;32m     27\u001b[0m x_c \u001b[39m=\u001b[39m \u001b[39mfloat\u001b[39m(x_c)\n\u001b[1;32m     28\u001b[0m y_c \u001b[39m=\u001b[39m \u001b[39mfloat\u001b[39m(y_c)\n",
      "\u001b[0;31mValueError\u001b[0m: not enough values to unpack (expected 4, got 1)"
     ]
    },
    {
     "data": {
      "text/plain": [
       "<Figure size 1500x1200 with 0 Axes>"
      ]
     },
     "metadata": {},
     "output_type": "display_data"
    }
   ],
   "source": [
    "plot(image_path, label_path, 2)"
   ]
  },
  {
   "cell_type": "code",
   "execution_count": null,
   "metadata": {},
   "outputs": [],
   "source": []
  },
  {
   "cell_type": "code",
   "execution_count": null,
   "metadata": {},
   "outputs": [],
   "source": []
  }
 ],
 "metadata": {
  "kernelspec": {
   "display_name": "Python 3",
   "language": "python",
   "name": "python3"
  },
  "language_info": {
   "codemirror_mode": {
    "name": "ipython",
    "version": 3
   },
   "file_extension": ".py",
   "mimetype": "text/x-python",
   "name": "python",
   "nbconvert_exporter": "python",
   "pygments_lexer": "ipython3",
   "version": "3.11.4"
  },
  "orig_nbformat": 4
 },
 "nbformat": 4,
 "nbformat_minor": 2
}
